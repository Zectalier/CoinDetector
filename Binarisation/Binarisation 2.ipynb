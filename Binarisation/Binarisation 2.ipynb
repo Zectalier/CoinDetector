{
 "cells": [
  {
   "cell_type": "code",
   "execution_count": 2,
   "id": "9b27aee0",
   "metadata": {},
   "outputs": [],
   "source": [
    "import skimage\n",
    "from skimage import draw\n",
    "import numpy as np\n",
    "from matplotlib import pyplot as plt\n",
    "from os import listdir\n",
    "from os.path import isfile, join\n",
    "import cv2\n",
    "import os"
   ]
  },
  {
   "cell_type": "code",
   "execution_count": 3,
   "id": "6d970f13",
   "metadata": {},
   "outputs": [],
   "source": [
    "PREDICTION_PATH = './prediction_labels_tests/'\n",
    "TRAIN_PATH = '../data/train_images/'"
   ]
  },
  {
   "cell_type": "code",
   "execution_count": 4,
   "id": "45e8939e",
   "metadata": {},
   "outputs": [
    {
     "name": "stdout",
     "output_type": "stream",
     "text": [
      "94 train images found in folder: ../data/train_images/\n"
     ]
    }
   ],
   "source": [
    "images = [f for f in listdir(TRAIN_PATH) if isfile(join(TRAIN_PATH, f))]\n",
    "print(str(len(images)) + ' train images found in folder: ' + TRAIN_PATH)"
   ]
  },
  {
   "cell_type": "code",
   "execution_count": 5,
   "id": "8afa1b49",
   "metadata": {},
   "outputs": [],
   "source": [
    "def treat_images(treatment_func, parameters, result_path):\n",
    "    for img_path in images:\n",
    "        parameters['img'] = cv2.imread(TRAIN_PATH + img_path, 0)\n",
    "        result = treatment_func(parameters)\n",
    "\n",
    "        cv2.imwrite(result_path + img_path, result)"
   ]
  },
  {
   "cell_type": "code",
   "execution_count": 50,
   "id": "2f528a6f",
   "metadata": {},
   "outputs": [],
   "source": [
    "def get_gaussian_otsu_thresholding_from(parameters):\n",
    "    blur = cv2.GaussianBlur(parameters['img'], (parameters['gKernelWidth'], parameters['gKernelHeight']), 0)\n",
    "    ret3, result = cv2.threshold(blur, 0, 255, cv2.THRESH_BINARY + cv2.THRESH_OTSU)\n",
    "    \n",
    "    return result"
   ]
  },
  {
   "cell_type": "code",
   "execution_count": 66,
   "id": "7ee83ffa",
   "metadata": {},
   "outputs": [],
   "source": [
    "def get_gaussian_otsu_thresholding_2_from(parameters):\n",
    "    blur = cv2.GaussianBlur(parameters['img'], (parameters['gKernelWidth'], parameters['gKernelHeight']), 0)\n",
    "    laplacian = cv2.Laplacian(blur, cv2.CV_64F)\n",
    "\n",
    "    cv2.imwrite(PREDICTION_PATH + 'threshed.png', laplacian)\n",
    "    img = cv2.imread(PREDICTION_PATH + 'threshed.png', 0)\n",
    "    blur = cv2.GaussianBlur(img, (parameters['gKernelWidth'], parameters['gKernelHeight']), 0)\n",
    "    ret, result = cv2.threshold(blur, 0, 255, cv2.THRESH_BINARY + cv2.THRESH_OTSU)\n",
    "    \n",
    "    return result"
   ]
  },
  {
   "cell_type": "code",
   "execution_count": 67,
   "id": "f07e6006",
   "metadata": {},
   "outputs": [],
   "source": [
    "params = {}\n",
    "\n",
    "MAX_THRESHOLD_VALUE = 255\n",
    "MIN_THRESHOLD_VALUE = 0\n",
    "\n",
    "\"\"\"MAX_KERNEL_VALUE = 30\n",
    "MIN_KERNEL_VALUE = 21\n",
    "\n",
    "for i in range(MIN_KERNEL_VALUE, MAX_KERNEL_VALUE, 2):\n",
    "    params['gKernelWidth'] = i\n",
    "    for j in range(MIN_KERNEL_VALUE, MAX_KERNEL_VALUE, 2):\n",
    "        params['gKernelHeight'] = j\n",
    "        path = PREDICTION_PATH + 'gKernelWidth ' + str(params['gKernelWidth']) + ' ; ' + 'gKernelHeight ' + str(params['gKernelHeight']) + '/'\n",
    "        if not os.path.exists(path):\n",
    "            os.makedirs(path)\n",
    "        treat_images(get_gaussian_otsu_thresholding_from, params, path)\"\"\"\n",
    "\n",
    "params['gKernelWidth'] = 51\n",
    "params['gKernelHeight'] = 51\n",
    "\n",
    "for img in images:\n",
    "    params['img'] = cv2.imread(TRAIN_PATH + img, 0)\n",
    "    result = get_gaussian_otsu_thresholding_2_from(params)\n",
    "\n",
    "    cv2.imwrite(PREDICTION_PATH + img, result)"
   ]
  },
  {
   "cell_type": "code",
   "execution_count": 65,
   "id": "c0b506bf",
   "metadata": {},
   "outputs": [
    {
     "data": {
      "image/png": "[encoded data removed]",
      "text/plain": [
       "<Figure size 432x288 with 1 Axes>"
      ]
     },
     "metadata": {
      "needs_background": "light"
     },
     "output_type": "display_data"
    }
   ],
   "source": [
    "#Histogramme \n",
    "from scipy import ndimage\n",
    "\n",
    "img_to_check = '20220124_132514.jpg'\n",
    "img = cv2.imread(TRAIN_PATH + img_to_check, 0)\n",
    "blur = cv2.GaussianBlur(img, (29, 29), 0)\n",
    "\n",
    "laplacian = cv2.Laplacian(blur, cv2.CV_64F)\n",
    "\n",
    "cv2.imwrite(PREDICTION_PATH + 'threshed.png', laplacian)\n",
    "img = cv2.imread(PREDICTION_PATH + 'threshed.png', 0)\n",
    "blur = cv2.GaussianBlur(img, (29, 29), 0)\n",
    "ret, thresh = cv2.threshold(blur, 0, 255, cv2.THRESH_BINARY + cv2.THRESH_OTSU)\n",
    "\n",
    "plt.imshow(thresh, cmap='gray')\n",
    "plt.show()"
   ]
  },
  {
   "cell_type": "code",
   "execution_count": null,
   "id": "2544fab2",
   "metadata": {},
   "outputs": [],
   "source": []
  }
 ],
 "metadata": {
  "kernelspec": {
   "display_name": "Python 3",
   "language": "python",
   "name": "python3"
  },
  "language_info": {
   "codemirror_mode": {
    "name": "ipython",
    "version": 3
   },
   "file_extension": ".py",
   "mimetype": "text/x-python",
   "name": "python",
   "nbconvert_exporter": "python",
   "pygments_lexer": "ipython3",
   "version": "3.8.12"
  }
 },
 "nbformat": 4,
 "nbformat_minor": 5
}
