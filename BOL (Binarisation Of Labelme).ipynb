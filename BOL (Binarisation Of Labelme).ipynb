{
 "cells": [
  {
   "cell_type": "code",
   "execution_count": 10,
   "id": "f0c1457b",
   "metadata": {},
   "outputs": [],
   "source": [
    "import numpy as np\n",
    "import math\n",
    "from skimage import io\n",
    "from skimage import draw\n",
    "from matplotlib import pyplot as plt\n",
    "from scipy.ndimage import convolve\n",
    "from scipy.ndimage.filters import convolve,gaussian_filter\n",
    "import cv2"
   ]
  },
  {
   "cell_type": "code",
   "execution_count": 2,
   "id": "9922fc4e",
   "metadata": {},
   "outputs": [
    {
     "name": "stderr",
     "output_type": "stream",
     "text": [
      "Cloning into 'CoinDetector'...\n",
      "Updating files:  65% (125/190)\n",
      "Updating files:  66% (126/190)\n",
      "Updating files:  67% (128/190)\n",
      "Updating files:  68% (130/190)\n",
      "Updating files:  69% (132/190)\n",
      "Updating files:  70% (133/190)\n",
      "Updating files:  71% (135/190)\n",
      "Updating files:  72% (137/190)\n",
      "Updating files:  73% (139/190)\n",
      "Updating files:  74% (141/190)\n",
      "Updating files:  75% (143/190)\n",
      "Updating files:  76% (145/190)\n",
      "Updating files:  77% (147/190)\n",
      "Updating files:  78% (149/190)\n",
      "Updating files:  79% (151/190)\n",
      "Updating files:  80% (152/190)\n",
      "Updating files:  81% (154/190)\n",
      "Updating files:  82% (156/190)\n",
      "Updating files:  83% (158/190)\n",
      "Updating files:  84% (160/190)\n",
      "Updating files:  85% (162/190)\n",
      "Updating files:  86% (164/190)\n",
      "Updating files:  87% (166/190)\n",
      "Updating files:  88% (168/190)\n",
      "Updating files:  89% (170/190)\n",
      "Updating files:  90% (171/190)\n",
      "Updating files:  91% (173/190)\n",
      "Updating files:  92% (175/190)\n",
      "Updating files:  93% (177/190)\n",
      "Updating files:  94% (179/190)\n",
      "Updating files:  95% (181/190)\n",
      "Updating files:  96% (183/190)\n",
      "Updating files:  97% (185/190)\n",
      "Updating files:  98% (187/190)\n",
      "Updating files:  99% (189/190)\n",
      "Updating files: 100% (190/190)\n",
      "Updating files: 100% (190/190), done.\n"
     ]
    }
   ],
   "source": [
    "!git clone https://github.com/Zectalier/CoinDetector"
   ]
  },
  {
   "cell_type": "code",
   "execution_count": 3,
   "id": "f2fd1ebe",
   "metadata": {},
   "outputs": [],
   "source": [
    "def get_circle_from_json(json):\n",
    "    center = json[0]\n",
    "    point = json[1]\n",
    "\n",
    "    radius = math.sqrt(math.pow(center[0] - point[0], 2) + math.pow(center[1] - point[1], 2))\n",
    "\n",
    "    data = {}\n",
    "    data['center'] = center\n",
    "    data['radius'] = radius\n",
    "    \n",
    "    return data\n",
    "\n",
    "def get_polygon_from_json(json):\n",
    "    x = []\n",
    "    y = []\n",
    "\n",
    "    for point in json:\n",
    "        x.append(int(point[0]))\n",
    "        y.append(int(point[1]))\n",
    "\n",
    "    data = {}\n",
    "    data['x'] = x\n",
    "    data['y'] = y\n",
    "    \n",
    "    return data"
   ]
  },
  {
   "cell_type": "code",
   "execution_count": 14,
   "id": "05817cc2",
   "metadata": {
    "scrolled": true
   },
   "outputs": [],
   "source": [
    "from os import listdir\n",
    "from os.path import isfile, join\n",
    "import json\n",
    "import math\n",
    "import uuid\n",
    "\n",
    "JSON_PATH = 'DB/'\n",
    "TRAIN_LABELS_PATH = 'data/train_labels/'\n",
    "\n",
    "images = [f for f in listdir(JSON_PATH) if isfile(join(JSON_PATH, f)) and \".json\" in f]\n",
    "\n",
    "for fi in images:\n",
    "    f = open(JSON_PATH + fi)\n",
    "    js = json.loads(f.read())\n",
    "    image_width = js['imageWidth']\n",
    "    image_height = js['imageHeight']\n",
    "    mat = np.zeros((image_height, image_width))\n",
    "\n",
    "    for shape in js['shapes']:\n",
    "        if shape['shape_type'] == 'circle':\n",
    "            circle = get_circle_from_json(shape['points'])\n",
    "            rr, cc = draw.disk((int(circle['center'][0]), \n",
    "                                        int(circle['center'][1])), \n",
    "                                        int(circle['radius']))\n",
    "            try:\n",
    "                mat[cc, rr] = 255\n",
    "            except:\n",
    "                print('ERREUR')\n",
    "                print(rr, cc)\n",
    "        if shape['shape_type'] == 'polygon':\n",
    "            polygon = get_polygon_from_json(shape['points'])\n",
    "            rr, cc = draw.polygon(polygon['x'], polygon['y'])\n",
    "            mat[cc, rr] = 255\n",
    "\n",
    "    cv2.imwrite(TRAIN_LABELS_PATH + fi.split('.')[0] + '.png', mat)"
   ]
  },
  {
   "cell_type": "code",
   "execution_count": null,
   "id": "14243c4c",
   "metadata": {},
   "outputs": [],
   "source": []
  }
 ],
 "metadata": {
  "kernelspec": {
   "display_name": "Python 3",
   "language": "python",
   "name": "python3"
  },
  "language_info": {
   "codemirror_mode": {
    "name": "ipython",
    "version": 3
   },
   "file_extension": ".py",
   "mimetype": "text/x-python",
   "name": "python",
   "nbconvert_exporter": "python",
   "pygments_lexer": "ipython3",
   "version": "3.8.12"
  }
 },
 "nbformat": 4,
 "nbformat_minor": 5
}
