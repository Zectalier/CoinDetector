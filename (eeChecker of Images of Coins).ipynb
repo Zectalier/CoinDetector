{
 "cells": [
  {
   "cell_type": "code",
   "execution_count": 1,
   "id": "9904855f",
   "metadata": {},
   "outputs": [],
   "source": [
    "import skimage\n",
    "import numpy as np\n",
    "from matplotlib import pyplot as plt\n",
    "from os import listdir\n",
    "from os.path import isfile, isdir, join\n",
    "import cv2"
   ]
  },
  {
   "cell_type": "markdown",
   "id": "a1da59dc",
   "metadata": {},
   "source": [
    "# Binarisation avec flou Gaussien adaptatif et thresholding moyen adatptatif."
   ]
  },
  {
   "cell_type": "code",
   "execution_count": 31,
   "id": "b467f657",
   "metadata": {
    "scrolled": true
   },
   "outputs": [
    {
     "name": "stdout",
     "output_type": "stream",
     "text": [
      "100 labeled images found in folder: ./data/train_labels/\n",
      "94 predicted images found in folder: ./data/train_labels/\n",
      "Predicted label not in labels.\n",
      "Predicted label not in labels.\n",
      "Predicted label not in labels.\n",
      "Total Accuracy: 52.33851775011104 %.\n"
     ]
    }
   ],
   "source": [
    "Y_PATH = './data/train_labels/'\n",
    "Y_HAT_PATH = './Binarisation/prediction_labels_gaussian_binary/'\n",
    "\n",
    "labels = [f for f in listdir(Y_PATH) if isfile(join(Y_PATH, f))]\n",
    "predictions = [f for f in listdir(Y_HAT_PATH) if isfile(join(Y_HAT_PATH, f))]\n",
    "print(str(len(labels)) + ' labeled images found in folder: ' + Y_PATH)\n",
    "print(str(len(predictions)) + ' predicted images found in folder: ' + Y_HAT_PATH)\n",
    "\n",
    "processed = 0\n",
    "total_accuracy = 0\n",
    "\n",
    "for pred in predictions:\n",
    "    y = cv2.imread(Y_PATH + pred.split('.')[0] + '.png', 0)\n",
    "    y_hat = cv2.imread(Y_HAT_PATH + pred, 0)\n",
    "    \n",
    "    try:\n",
    "        y_TP = len(np.where(y * y_hat == 255)[0])\n",
    "        y_TN = len(np.where(y_hat - y == 0)[0])\n",
    "        total_pixels = y.shape[0] * y.shape[1]\n",
    "        \n",
    "        \"\"\"print('y_TP = ' + str(y_TP))\n",
    "        print('y_TN = ' + str(y_TN))\n",
    "        print(total_pixels)\"\"\"\n",
    "        \n",
    "        accuracy = ((y_TP + y_TN) / total_pixels)\n",
    "        total_accuracy += accuracy\n",
    "        processed += 1\n",
    "        #print('Accuracy: ' + str(accuracy * 100) + ' %.')\n",
    "    except:\n",
    "        print('Predicted label not in labels. => ' + pred)\n",
    "\n",
    "print('Total Accuracy: ' + str((total_accuracy / processed) * 100) + ' %.')"
   ]
  },
  {
   "cell_type": "markdown",
   "id": "03943188",
   "metadata": {},
   "source": [
    "# Binarisation avec un flou Gaussien et thresholding OTSU."
   ]
  },
  {
   "cell_type": "code",
   "execution_count": 32,
   "id": "2dfd08a4",
   "metadata": {},
   "outputs": [
    {
     "name": "stdout",
     "output_type": "stream",
     "text": [
      "100 labeled images found in folder: ./data/train_labels/\n",
      "94 predicted images found in folder: ./data/train_labels/\n",
      "Predicted label not in labels. => 20220125_223053.jpg\n",
      "Predicted label not in labels. => piece5.jpg\n",
      "Predicted label not in labels. => piece55.jpeg\n",
      "Total Accuracy: 74.8763725834999 %.\n"
     ]
    }
   ],
   "source": [
    "Y_PATH = './data/train_labels/'\n",
    "Y_HAT_PATH = './Binarisation/prediction_labels_gaussian_blur_and_otsu/'\n",
    "\n",
    "labels = [f for f in listdir(Y_PATH) if isfile(join(Y_PATH, f))]\n",
    "predictions = [f for f in listdir(Y_HAT_PATH) if isfile(join(Y_HAT_PATH, f))]\n",
    "print(str(len(labels)) + ' labeled images found in folder: ' + Y_PATH)\n",
    "print(str(len(predictions)) + ' predicted images found in folder: ' + Y_HAT_PATH)\n",
    "\n",
    "processed = 0\n",
    "total_accuracy = 0\n",
    "\n",
    "for pred in predictions:\n",
    "    y = cv2.imread(Y_PATH + pred.split('.')[0] + '.png', 0)\n",
    "    y_hat = cv2.imread(Y_HAT_PATH + pred, 0)\n",
    "\n",
    "    try:\n",
    "        y_TP = len(np.where(y * y_hat == 255)[0])\n",
    "        y_TN = len(np.where(y_hat - y == 0)[0])\n",
    "        total_pixels = y.shape[0] * y.shape[1]\n",
    "        \n",
    "        \"\"\"print('y_TP = ' + str(y_TP))\n",
    "        print('y_TN = ' + str(y_TN))\n",
    "        print(total_pixels)\"\"\"\n",
    "        \n",
    "        accuracy = ((y_TP + y_TN) / total_pixels)\n",
    "        total_accuracy += accuracy\n",
    "        processed += 1\n",
    "        #print('Accuracy: ' + str(accuracy * 100) + ' %.')\n",
    "    except:\n",
    "        print('Predicted label not in labels. => ' + pred)\n",
    "\n",
    "print('Total Accuracy: ' + str((total_accuracy / processed) * 100) + ' %.')"
   ]
  },
  {
   "cell_type": "markdown",
   "id": "c87ade91",
   "metadata": {},
   "source": [
    "# Binarisation avec thresholding OTSU."
   ]
  },
  {
   "cell_type": "code",
   "execution_count": 34,
   "id": "56ee6dfb",
   "metadata": {},
   "outputs": [
    {
     "name": "stdout",
     "output_type": "stream",
     "text": [
      "100 labeled images found in folder: ./data/train_labels/\n",
      "94 predicted images found in folder: ./Binarisation/prediction_labels_otsu/\n",
      "Predicted label not in labels. => 20220125_223053.jpg\n",
      "Predicted label not in labels. => piece5.jpg\n",
      "Predicted label not in labels. => piece55.jpeg\n",
      "Total Accuracy: 73.92314582378117 %.\n"
     ]
    }
   ],
   "source": [
    "Y_PATH = './data/train_labels/'\n",
    "Y_HAT_PATH = './Binarisation/prediction_labels_otsu/'\n",
    "\n",
    "labels = [f for f in listdir(Y_PATH) if isfile(join(Y_PATH, f))]\n",
    "predictions = [f for f in listdir(Y_HAT_PATH) if isfile(join(Y_HAT_PATH, f))]\n",
    "print(str(len(labels)) + ' labeled images found in folder: ' + Y_PATH)\n",
    "print(str(len(predictions)) + ' predicted images found in folder: ' + Y_HAT_PATH)\n",
    "\n",
    "processed = 0\n",
    "total_accuracy = 0\n",
    "\n",
    "for pred in predictions:\n",
    "    y = cv2.imread(Y_PATH + pred.split('.')[0] + '.png', 0)\n",
    "    y_hat = cv2.imread(Y_HAT_PATH + pred, 0)\n",
    "\n",
    "    try:\n",
    "        y_TP = len(np.where(y * y_hat == 255)[0])\n",
    "        y_TN = len(np.where(y_hat - y == 0)[0])\n",
    "        total_pixels = y.shape[0] * y.shape[1]\n",
    "        \n",
    "        \"\"\"print('y_TP = ' + str(y_TP))\n",
    "        print('y_TN = ' + str(y_TN))\n",
    "        print(total_pixels)\"\"\"\n",
    "        \n",
    "        accuracy = ((y_TP + y_TN) / total_pixels)\n",
    "        total_accuracy += accuracy\n",
    "        processed += 1\n",
    "        #print('Accuracy: ' + str(accuracy * 100) + ' %.')\n",
    "    except:\n",
    "        print('Predicted label not in labels. => ' + pred)\n",
    "\n",
    "print('Total Accuracy: ' + str((total_accuracy / processed) * 100) + ' %.')"
   ]
  },
  {
   "cell_type": "markdown",
   "id": "31b3424c",
   "metadata": {},
   "source": [
    "# Binarisation avec thresholding global."
   ]
  },
  {
   "cell_type": "code",
   "execution_count": 35,
   "id": "90d3320f",
   "metadata": {},
   "outputs": [
    {
     "name": "stdout",
     "output_type": "stream",
     "text": [
      "100 labeled images found in folder: ./data/train_labels/\n",
      "94 predicted images found in folder: ./Binarisation/prediction_labels_global/\n",
      "Predicted label not in labels. => 20220125_223053.jpg\n",
      "Predicted label not in labels. => piece5.jpg\n",
      "Predicted label not in labels. => piece55.jpeg\n",
      "Total Accuracy: 73.00198173634863 %.\n"
     ]
    }
   ],
   "source": [
    "Y_PATH = './data/train_labels/'\n",
    "Y_HAT_PATH = './Binarisation/prediction_labels_global/'\n",
    "\n",
    "labels = [f for f in listdir(Y_PATH) if isfile(join(Y_PATH, f))]\n",
    "predictions = [f for f in listdir(Y_HAT_PATH) if isfile(join(Y_HAT_PATH, f))]\n",
    "print(str(len(labels)) + ' labeled images found in folder: ' + Y_PATH)\n",
    "print(str(len(predictions)) + ' predicted images found in folder: ' + Y_HAT_PATH)\n",
    "\n",
    "processed = 0\n",
    "total_accuracy = 0\n",
    "\n",
    "for pred in predictions:\n",
    "    y = cv2.imread(Y_PATH + pred.split('.')[0] + '.png', 0)\n",
    "    y_hat = cv2.imread(Y_HAT_PATH + pred, 0)\n",
    "\n",
    "    try:\n",
    "        y_TP = len(np.where(y * y_hat == 255)[0])\n",
    "        y_TN = len(np.where(y_hat - y == 0)[0])\n",
    "        total_pixels = y.shape[0] * y.shape[1]\n",
    "        \n",
    "        \"\"\"print('y_TP = ' + str(y_TP))\n",
    "        print('y_TN = ' + str(y_TN))\n",
    "        print(total_pixels)\"\"\"\n",
    "        \n",
    "        accuracy = ((y_TP + y_TN) / total_pixels)\n",
    "        total_accuracy += accuracy\n",
    "        processed += 1\n",
    "        #print('Accuracy: ' + str(accuracy * 100) + ' %.')\n",
    "    except:\n",
    "        print('Predicted label not in labels. => ' + pred)\n",
    "\n",
    "print('Total Accuracy: ' + str((total_accuracy / processed) * 100) + ' %.')"
   ]
  },
  {
   "cell_type": "markdown",
   "id": "8d487860",
   "metadata": {},
   "source": [
    "# Trouver le meilleur set de paramètres parmis plusieurs dossiers.\n",
    "\n",
    "J'ai généré plusieurs dossiers contenant plusieurs binarisation avec différents paramètres. Maintenant je vais les charger et les comparer à notre labelisation faite à la main afin de déterminer quel est le meilleur set de paramètres."
   ]
  },
  {
   "cell_type": "code",
   "execution_count": 42,
   "id": "d6d9c506",
   "metadata": {},
   "outputs": [
    {
     "name": "stdout",
     "output_type": "stream",
     "text": [
      "25 sets found in folder: ./Binarisation/prediction_labels_gaussian_blur_and_otsu/\n"
     ]
    }
   ],
   "source": [
    "Y_PATH = './data/train_labels/'\n",
    "Y_HAT_PATH = './Binarisation/prediction_labels_gaussian_blur_and_otsu/'\n",
    "\n",
    "sets = [f for f in listdir(Y_HAT_PATH) if isdir(join(Y_HAT_PATH, f))]\n",
    "print(str(len(sets)) + ' sets found in folder: ' + Y_HAT_PATH)"
   ]
  },
  {
   "cell_type": "code",
   "execution_count": 43,
   "id": "dd7b26c8",
   "metadata": {},
   "outputs": [],
   "source": [
    "def check_accuracy_of(trained_dir_path):\n",
    "    Y_HAT_PATH = trained_dir_path\n",
    "\n",
    "    labels = [f for f in listdir(Y_PATH) if isfile(join(Y_PATH, f))]\n",
    "    predictions = [f for f in listdir(Y_HAT_PATH) if isfile(join(Y_HAT_PATH, f))]\n",
    "    print(str(len(labels)) + ' labeled images found in folder: ' + Y_PATH)\n",
    "    print(str(len(predictions)) + ' predicted images found in folder: ' + Y_HAT_PATH)\n",
    "\n",
    "    processed = 0\n",
    "    total_accuracy = 0\n",
    "\n",
    "    for pred in predictions:\n",
    "        y = cv2.imread(Y_PATH + pred.split('.')[0] + '.png', 0)\n",
    "        y_hat = cv2.imread(Y_HAT_PATH + pred, 0)\n",
    "\n",
    "        try:\n",
    "            y_TP = len(np.where(y * y_hat == 255)[0])\n",
    "            y_TN = len(np.where(y_hat - y == 0)[0])\n",
    "            total_pixels = y.shape[0] * y.shape[1]\n",
    "\n",
    "            \"\"\"print('y_TP = ' + str(y_TP))\n",
    "            print('y_TN = ' + str(y_TN))\n",
    "            print(total_pixels)\"\"\"\n",
    "\n",
    "            accuracy = ((y_TP + y_TN) / total_pixels)\n",
    "            total_accuracy += accuracy\n",
    "            processed += 1\n",
    "            #print('Accuracy: ' + str(accuracy * 100) + ' %.')\n",
    "        except:\n",
    "            #print('Predicted label not in labels. => ' + Y_HAT_PATH + pred)\n",
    "            pass\n",
    "    #print('Total Accuracy: ' + str((total_accuracy / processed) * 100) + ' %.')\n",
    "    return (total_accuracy / processed) * 100"
   ]
  },
  {
   "cell_type": "code",
   "execution_count": 44,
   "id": "8d4b4ac4",
   "metadata": {},
   "outputs": [
    {
     "name": "stdout",
     "output_type": "stream",
     "text": [
      "100 labeled images found in folder: ./data/train_labels/\n",
      "94 predicted images found in folder: ./Binarisation/prediction_labels_gaussian_blur_and_otsu/gKernelWidth 21 ; gKernelHeight 21/\n",
      "100 labeled images found in folder: ./data/train_labels/\n",
      "94 predicted images found in folder: ./Binarisation/prediction_labels_gaussian_blur_and_otsu/gKernelWidth 21 ; gKernelHeight 23/\n",
      "100 labeled images found in folder: ./data/train_labels/\n",
      "94 predicted images found in folder: ./Binarisation/prediction_labels_gaussian_blur_and_otsu/gKernelWidth 21 ; gKernelHeight 25/\n",
      "100 labeled images found in folder: ./data/train_labels/\n",
      "94 predicted images found in folder: ./Binarisation/prediction_labels_gaussian_blur_and_otsu/gKernelWidth 21 ; gKernelHeight 27/\n",
      "100 labeled images found in folder: ./data/train_labels/\n",
      "94 predicted images found in folder: ./Binarisation/prediction_labels_gaussian_blur_and_otsu/gKernelWidth 21 ; gKernelHeight 29/\n",
      "100 labeled images found in folder: ./data/train_labels/\n",
      "94 predicted images found in folder: ./Binarisation/prediction_labels_gaussian_blur_and_otsu/gKernelWidth 23 ; gKernelHeight 21/\n",
      "100 labeled images found in folder: ./data/train_labels/\n",
      "94 predicted images found in folder: ./Binarisation/prediction_labels_gaussian_blur_and_otsu/gKernelWidth 23 ; gKernelHeight 23/\n",
      "100 labeled images found in folder: ./data/train_labels/\n",
      "94 predicted images found in folder: ./Binarisation/prediction_labels_gaussian_blur_and_otsu/gKernelWidth 23 ; gKernelHeight 25/\n",
      "100 labeled images found in folder: ./data/train_labels/\n",
      "94 predicted images found in folder: ./Binarisation/prediction_labels_gaussian_blur_and_otsu/gKernelWidth 23 ; gKernelHeight 27/\n",
      "100 labeled images found in folder: ./data/train_labels/\n",
      "94 predicted images found in folder: ./Binarisation/prediction_labels_gaussian_blur_and_otsu/gKernelWidth 23 ; gKernelHeight 29/\n",
      "100 labeled images found in folder: ./data/train_labels/\n",
      "94 predicted images found in folder: ./Binarisation/prediction_labels_gaussian_blur_and_otsu/gKernelWidth 25 ; gKernelHeight 21/\n",
      "100 labeled images found in folder: ./data/train_labels/\n",
      "94 predicted images found in folder: ./Binarisation/prediction_labels_gaussian_blur_and_otsu/gKernelWidth 25 ; gKernelHeight 23/\n",
      "100 labeled images found in folder: ./data/train_labels/\n",
      "94 predicted images found in folder: ./Binarisation/prediction_labels_gaussian_blur_and_otsu/gKernelWidth 25 ; gKernelHeight 25/\n",
      "100 labeled images found in folder: ./data/train_labels/\n",
      "94 predicted images found in folder: ./Binarisation/prediction_labels_gaussian_blur_and_otsu/gKernelWidth 25 ; gKernelHeight 27/\n",
      "100 labeled images found in folder: ./data/train_labels/\n",
      "94 predicted images found in folder: ./Binarisation/prediction_labels_gaussian_blur_and_otsu/gKernelWidth 25 ; gKernelHeight 29/\n",
      "100 labeled images found in folder: ./data/train_labels/\n",
      "94 predicted images found in folder: ./Binarisation/prediction_labels_gaussian_blur_and_otsu/gKernelWidth 27 ; gKernelHeight 21/\n",
      "100 labeled images found in folder: ./data/train_labels/\n",
      "94 predicted images found in folder: ./Binarisation/prediction_labels_gaussian_blur_and_otsu/gKernelWidth 27 ; gKernelHeight 23/\n",
      "100 labeled images found in folder: ./data/train_labels/\n",
      "94 predicted images found in folder: ./Binarisation/prediction_labels_gaussian_blur_and_otsu/gKernelWidth 27 ; gKernelHeight 25/\n",
      "100 labeled images found in folder: ./data/train_labels/\n",
      "94 predicted images found in folder: ./Binarisation/prediction_labels_gaussian_blur_and_otsu/gKernelWidth 27 ; gKernelHeight 27/\n",
      "100 labeled images found in folder: ./data/train_labels/\n",
      "94 predicted images found in folder: ./Binarisation/prediction_labels_gaussian_blur_and_otsu/gKernelWidth 27 ; gKernelHeight 29/\n",
      "100 labeled images found in folder: ./data/train_labels/\n",
      "94 predicted images found in folder: ./Binarisation/prediction_labels_gaussian_blur_and_otsu/gKernelWidth 29 ; gKernelHeight 21/\n",
      "100 labeled images found in folder: ./data/train_labels/\n",
      "94 predicted images found in folder: ./Binarisation/prediction_labels_gaussian_blur_and_otsu/gKernelWidth 29 ; gKernelHeight 23/\n",
      "100 labeled images found in folder: ./data/train_labels/\n",
      "94 predicted images found in folder: ./Binarisation/prediction_labels_gaussian_blur_and_otsu/gKernelWidth 29 ; gKernelHeight 25/\n",
      "100 labeled images found in folder: ./data/train_labels/\n",
      "94 predicted images found in folder: ./Binarisation/prediction_labels_gaussian_blur_and_otsu/gKernelWidth 29 ; gKernelHeight 27/\n",
      "100 labeled images found in folder: ./data/train_labels/\n",
      "94 predicted images found in folder: ./Binarisation/prediction_labels_gaussian_blur_and_otsu/gKernelWidth 29 ; gKernelHeight 29/\n",
      "{'gKernelWidth 21 ; gKernelHeight 21': 75.86099564002326, 'gKernelWidth 21 ; gKernelHeight 23': 75.88746968870448, 'gKernelWidth 21 ; gKernelHeight 25': 75.9107525536644, 'gKernelWidth 21 ; gKernelHeight 27': 75.93598405029982, 'gKernelWidth 21 ; gKernelHeight 29': 75.94439556939854, 'gKernelWidth 23 ; gKernelHeight 21': 75.89174807957106, 'gKernelWidth 23 ; gKernelHeight 23': 75.91764250918224, 'gKernelWidth 23 ; gKernelHeight 25': 75.94370546490664, 'gKernelWidth 23 ; gKernelHeight 27': 75.95072901343909, 'gKernelWidth 23 ; gKernelHeight 29': 75.97576066265069, 'gKernelWidth 25 ; gKernelHeight 21': 75.91918068030301, 'gKernelWidth 25 ; gKernelHeight 23': 75.94728312999165, 'gKernelWidth 25 ; gKernelHeight 25': 75.95317130559502, 'gKernelWidth 25 ; gKernelHeight 27': 75.98143967682044, 'gKernelWidth 25 ; gKernelHeight 29': 75.99337825137475, 'gKernelWidth 27 ; gKernelHeight 21': 75.94786324628996, 'gKernelWidth 27 ; gKernelHeight 23': 75.96725199825273, 'gKernelWidth 27 ; gKernelHeight 25': 75.98232329500169, 'gKernelWidth 27 ; gKernelHeight 27': 75.99808671879453, 'gKernelWidth 27 ; gKernelHeight 29': 76.02411823396102, 'gKernelWidth 29 ; gKernelHeight 21': 75.96939946805492, 'gKernelWidth 29 ; gKernelHeight 23': 75.97806103900871, 'gKernelWidth 29 ; gKernelHeight 25': 75.99863044404225, 'gKernelWidth 29 ; gKernelHeight 27': 76.01728822058791, 'gKernelWidth 29 ; gKernelHeight 29': 76.04496896708045}\n"
     ]
    }
   ],
   "source": [
    "results = {}\n",
    "\n",
    "for param_set in sets:\n",
    "    results[param_set] = check_accuracy_of(Y_HAT_PATH + param_set + '/')\n",
    "    \n",
    "print(results)"
   ]
  },
  {
   "cell_type": "code",
   "execution_count": 45,
   "id": "875cf793",
   "metadata": {},
   "outputs": [],
   "source": [
    "import csv\n",
    "\n",
    "with open('test2.csv', 'w') as f:\n",
    "    for key in results.keys():\n",
    "        f.write(\"%s,%s,%s\\n\"%(key.split(';')[0], key.split(';')[1], results[key]))"
   ]
  },
  {
   "cell_type": "code",
   "execution_count": null,
   "id": "5a89a45b",
   "metadata": {},
   "outputs": [],
   "source": []
  }
 ],
 "metadata": {
  "kernelspec": {
   "display_name": "Python 3",
   "language": "python",
   "name": "python3"
  },
  "language_info": {
   "codemirror_mode": {
    "name": "ipython",
    "version": 3
   },
   "file_extension": ".py",
   "mimetype": "text/x-python",
   "name": "python",
   "nbconvert_exporter": "python",
   "pygments_lexer": "ipython3",
   "version": "3.8.12"
  }
 },
 "nbformat": 4,
 "nbformat_minor": 5
}
